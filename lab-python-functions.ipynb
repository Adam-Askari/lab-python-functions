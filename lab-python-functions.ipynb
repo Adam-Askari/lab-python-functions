{
 "cells": [
  {
   "cell_type": "markdown",
   "id": "25d7736c-ba17-4aff-b6bb-66eba20fbf4e",
   "metadata": {},
   "source": [
    "# Lab | Functions"
   ]
  },
  {
   "cell_type": "markdown",
   "id": "0c581062-8967-4d93-b06e-62833222f930",
   "metadata": {
    "tags": []
   },
   "source": [
    "## Exercise: Managing Customer Orders with Functions\n",
    "\n",
    "In the previous exercise, you improved the code for managing customer orders by using loops and flow control. Now, let's take it a step further and refactor the code by introducing functions.\n",
    "\n",
    "Follow the steps below to complete the exercise:\n",
    "\n",
    "1. Define a function named `initialize_inventory` that takes `products` as a parameter. Inside the function, implement the code for initializing the inventory dictionary using a loop and user input.\n",
    "\n",
    "2. Define a function named `get_customer_orders` that takes no parameters. Inside the function, implement the code for prompting the user to enter the product names using a loop. The function should return the `customer_orders` set.\n",
    "\n",
    "3. Define a function named `update_inventory` that takes `customer_orders` and `inventory` as parameters. Inside the function, implement the code for updating the inventory dictionary based on the customer orders.\n",
    "\n",
    "4. Define a function named `calculate_order_statistics` that takes `customer_orders` and `products` as parameters. Inside the function, implement the code for calculating the order statistics (total products ordered, and percentage of unique products ordered). The function should return these values.\n",
    "\n",
    "5. Define a function named `print_order_statistics` that takes `order_statistics` as a parameter. Inside the function, implement the code for printing the order statistics.\n",
    "\n",
    "6. Define a function named `print_updated_inventory` that takes `inventory` as a parameter. Inside the function, implement the code for printing the updated inventory.\n",
    "\n",
    "7. Call the functions in the appropriate sequence to execute the program and manage customer orders.\n",
    "\n",
    "Hints for functions:\n",
    "\n",
    "- Consider the input parameters required for each function and their return values.\n",
    "- Utilize function parameters and return values to transfer data between functions.\n",
    "- Test your functions individually to ensure they work correctly.\n",
    "\n",
    "\n"
   ]
  },
  {
   "cell_type": "code",
   "execution_count": 1,
   "id": "46459aaa-37c3-44f6-b193-908f9364d133",
   "metadata": {},
   "outputs": [],
   "source": [
    "def initialize_inventory(products):\n",
    "    inventory = {}\n",
    "    for product in products:\n",
    "        while True:\n",
    "            try:\n",
    "                quantity = int(input(f\"Enter quantity for '{product}': \"))\n",
    "                if quantity < 0:\n",
    "                    print(\"Please enter a non-negative number.\")\n",
    "                    continue\n",
    "                inventory[product] = quantity\n",
    "                break\n",
    "            except ValueError:\n",
    "                print(\"Invalid input. Please enter an integer.\")\n",
    "    return inventory"
   ]
  },
  {
   "cell_type": "code",
   "execution_count": 2,
   "id": "7ccf4534-d1b1-40a1-a122-69712d4f4c08",
   "metadata": {},
   "outputs": [],
   "source": [
    "def get_customer_orders():\n",
    "    customer_orders = set()\n",
    "    print(\"Enter product names for the order (type 'done' to finish):\")\n",
    "    while True:\n",
    "        product = input(\"Product: \").strip()\n",
    "        if product.lower() == 'done':\n",
    "            break\n",
    "        if product:\n",
    "            customer_orders.add(product)\n",
    "    return customer_orders"
   ]
  },
  {
   "cell_type": "code",
   "execution_count": 3,
   "id": "09e44446-9be2-42c5-96d5-097f52b7c63d",
   "metadata": {},
   "outputs": [],
   "source": [
    "def update_inventory(customer_orders, inventory):\n",
    "    for product in customer_orders:\n",
    "        if product in inventory and inventory[product] > 0:\n",
    "            inventory[product] -= 1\n",
    "        elif product in inventory:\n",
    "            print(f\"Product '{product}' is out of stock.\")\n",
    "        else:\n",
    "            print(f\"Product '{product}' does not exist in the inventory.\")\n"
   ]
  },
  {
   "cell_type": "code",
   "execution_count": 4,
   "id": "47efebdc-e111-4d79-84c2-cbbfaf260bac",
   "metadata": {},
   "outputs": [],
   "source": [
    "def calculate_order_statistics(customer_orders, products):\n",
    "    total_products_ordered = len(customer_orders)\n",
    "    unique_products_ordered = len(customer_orders & set(products))\n",
    "    percentage_unique_ordered = (unique_products_ordered / len(products)) * 100 if products else 0\n",
    "    return total_products_ordered, percentage_unique_ordered"
   ]
  },
  {
   "cell_type": "code",
   "execution_count": 5,
   "id": "820de71c-5b6c-4d95-94e9-c52a14985f9d",
   "metadata": {},
   "outputs": [],
   "source": [
    "def print_order_statistics(order_statistics):\n",
    "    total, percentage = order_statistics\n",
    "    print(f\"\\nOrder Statistics:\")\n",
    "    print(f\"Total Products Ordered: {total}\")\n",
    "    print(f\"Percentage of Unique Products Ordered: {percentage:.2f}%\")"
   ]
  },
  {
   "cell_type": "code",
   "execution_count": 6,
   "id": "d8bf324c-d16a-4eef-a63f-173e9d8e377c",
   "metadata": {},
   "outputs": [],
   "source": [
    "def print_updated_inventory(inventory):\n",
    "    print(\"\\nUpdated Inventory:\")\n",
    "    for product, quantity in inventory.items():\n",
    "        print(f\"{product}: {quantity}\")"
   ]
  },
  {
   "cell_type": "code",
   "execution_count": 7,
   "id": "1404e5e4-8ffd-4256-8d1a-2a29c1300e0a",
   "metadata": {},
   "outputs": [
    {
     "name": "stdin",
     "output_type": "stream",
     "text": [
      "Enter quantity for 'Apples':  2\n",
      "Enter quantity for 'Bananas':  3\n",
      "Enter quantity for 'Oranges':  1\n",
      "Enter quantity for 'Strawberries':  2\n",
      "Enter quantity for 'Peaches':  4\n"
     ]
    },
    {
     "name": "stdout",
     "output_type": "stream",
     "text": [
      "Enter product names for the order (type 'done' to finish):\n"
     ]
    },
    {
     "name": "stdin",
     "output_type": "stream",
     "text": [
      "Product:  done\n"
     ]
    },
    {
     "name": "stdout",
     "output_type": "stream",
     "text": [
      "\n",
      "Order Statistics:\n",
      "Total Products Ordered: 0\n",
      "Percentage of Unique Products Ordered: 0.00%\n",
      "\n",
      "Updated Inventory:\n",
      "Apples: 2\n",
      "Bananas: 3\n",
      "Oranges: 1\n",
      "Strawberries: 2\n",
      "Peaches: 4\n"
     ]
    }
   ],
   "source": [
    "products = [\"Apples\", \"Bananas\", \"Oranges\", \"Strawberries\", \"Peaches\"]\n",
    "\n",
    "def initialize_inventory(products):\n",
    "    inventory = {}\n",
    "    for product in products:\n",
    "        while True:\n",
    "            try:\n",
    "                quantity = int(input(f\"Enter quantity for '{product}': \"))\n",
    "                if quantity < 0:\n",
    "                    print(\"Please enter a non-negative number.\")\n",
    "                    continue\n",
    "                inventory[product] = quantity\n",
    "                break\n",
    "            except ValueError:\n",
    "                print(\"Invalid input. Please enter an integer.\")\n",
    "    return inventory\n",
    "\n",
    "inventory = initialize_inventory(products)\n",
    "\n",
    "customer_orders = get_customer_orders()\n",
    "\n",
    "update_inventory(customer_orders, inventory)\n",
    "\n",
    "order_statistics = calculate_order_statistics(customer_orders, products)\n",
    "\n",
    "print_order_statistics(order_statistics)\n",
    "\n",
    "print_updated_inventory(inventory)"
   ]
  },
  {
   "cell_type": "code",
   "execution_count": null,
   "id": "9d782502-230b-45f0-8ea0-6d6dec17b1e8",
   "metadata": {},
   "outputs": [],
   "source": []
  }
 ],
 "metadata": {
  "kernelspec": {
   "display_name": "Python 3 (ipykernel)",
   "language": "python",
   "name": "python3"
  },
  "language_info": {
   "codemirror_mode": {
    "name": "ipython",
    "version": 3
   },
   "file_extension": ".py",
   "mimetype": "text/x-python",
   "name": "python",
   "nbconvert_exporter": "python",
   "pygments_lexer": "ipython3",
   "version": "3.12.5"
  }
 },
 "nbformat": 4,
 "nbformat_minor": 5
}
